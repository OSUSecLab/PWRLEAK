{
 "cells": [
  {
   "cell_type": "code",
   "execution_count": 105,
   "metadata": {
    "collapsed": true
   },
   "outputs": [],
   "source": [
    "import numpy as np\n",
    "import matplotlib.pyplot as plt\n",
    "import csv"
   ]
  },
  {
   "cell_type": "code",
   "execution_count": 106,
   "outputs": [],
   "source": [
    "bits = 1024\n",
    "L = 16  # sample points per multiplication\n",
    "r = 16  # traces"
   ],
   "metadata": {
    "collapsed": false
   }
  },
  {
   "cell_type": "code",
   "execution_count": 107,
   "outputs": [],
   "source": [
    "# generate test data\n",
    "G = np.random.randint(100, size=(r, L * bits))\n",
    "\n",
    "with open('traces.csv', 'w', newline='') as csv_file:\n",
    "    writer = csv.writer(csv_file)\n",
    "    for i in range(r):\n",
    "        writer.writerow(G[i])"
   ],
   "metadata": {
    "collapsed": false
   }
  },
  {
   "cell_type": "code",
   "execution_count": 108,
   "outputs": [
    {
     "data": {
      "text/plain": "(array([[21, 55, 80, ..., 43, 22, 28],\n        [85, 66, 48, ..., 90, 65,  5],\n        [58, 78, 95, ..., 57, 30, 92],\n        ...,\n        [96, 74, 47, ..., 18, 78, 68],\n        [84, 36, 85, ..., 68, 65, 79],\n        [17, 52, 58, ..., 77, 61, 73]]),\n (16, 16384))"
     },
     "execution_count": 108,
     "metadata": {},
     "output_type": "execute_result"
    }
   ],
   "source": [
    "G, G.shape"
   ],
   "metadata": {
    "collapsed": false
   }
  },
  {
   "cell_type": "code",
   "execution_count": 109,
   "outputs": [
    {
     "data": {
      "text/plain": "array([[21, 55, 80, ..., 43, 22, 28],\n       [85, 66, 48, ..., 90, 65,  5],\n       [58, 78, 95, ..., 57, 30, 92],\n       ...,\n       [96, 74, 47, ..., 18, 78, 68],\n       [84, 36, 85, ..., 68, 65, 79],\n       [17, 52, 58, ..., 77, 61, 73]])"
     },
     "execution_count": 109,
     "metadata": {},
     "output_type": "execute_result"
    }
   ],
   "source": [
    "row_list = []\n",
    "with open('traces.csv', newline='') as csv_file:\n",
    "    reader = csv.reader(csv_file)\n",
    "    for row in reader:\n",
    "        row_list.append(row)\n",
    "X = np.array(row_list, dtype='int32')\n",
    "X"
   ],
   "metadata": {
    "collapsed": false
   }
  },
  {
   "cell_type": "code",
   "execution_count": 110,
   "outputs": [
    {
     "data": {
      "text/plain": "array([[21, 55, 80, ..., 43, 22, 28],\n       [85, 66, 48, ..., 90, 65,  5],\n       [58, 78, 95, ..., 57, 30, 92],\n       ...,\n       [96, 74, 47, ..., 18, 78, 68],\n       [84, 36, 85, ..., 68, 65, 79],\n       [17, 52, 58, ..., 77, 61, 73]])"
     },
     "execution_count": 110,
     "metadata": {},
     "output_type": "execute_result"
    }
   ],
   "source": [
    "def denoise(X, inst_seq, measurement):\n",
    "    # TODO: preprocess the power trace to reduce the noise\n",
    "    # noise = some_fun(X, inst_seq, measurement)\n",
    "    noise = np.zeros(X.shape, dtype='int32')\n",
    "    X -= noise\n",
    "    return X\n",
    "\n",
    "X = denoise(X, None, None)\n",
    "X"
   ],
   "metadata": {
    "collapsed": false
   }
  },
  {
   "cell_type": "code",
   "execution_count": 111,
   "outputs": [
    {
     "data": {
      "text/plain": "(1024, 16)"
     },
     "execution_count": 111,
     "metadata": {},
     "output_type": "execute_result"
    }
   ],
   "source": [
    "CT = np.zeros((bits, L))\n",
    "CT.shape"
   ],
   "metadata": {
    "collapsed": false
   }
  },
  {
   "cell_type": "code",
   "execution_count": 112,
   "outputs": [
    {
     "data": {
      "text/plain": "array([[ 1.00000000e+00,  1.00000000e+00,  1.00000000e+00, ...,\n         1.00000000e+00,  1.00000000e+00,  1.00000000e+00],\n       [ 2.58551663e-01,  3.17694727e-01, -2.27375483e-01, ...,\n        -1.29135040e-01, -1.66804484e-01, -2.53232481e-01],\n       [ 2.42334443e-02,  1.67525895e-01,  2.41847833e-01, ...,\n        -3.53301106e-01,  9.57253101e-02,  1.50488128e-01],\n       ...,\n       [ 3.10315276e-01, -5.51277945e-02, -1.29927189e-01, ...,\n         4.68049317e-02, -2.89211431e-02,  5.99224242e-01],\n       [ 1.50075687e-01, -2.66387174e-01,  1.19055030e-01, ...,\n        -2.39945260e-01,  1.31462454e-01,  7.70002687e-02],\n       [-4.64546334e-01,  6.45632199e-03, -6.80676273e-01, ...,\n        -5.07280595e-04,  8.42442826e-02, -1.38251023e-01]])"
     },
     "execution_count": 112,
     "metadata": {},
     "output_type": "execute_result"
    }
   ],
   "source": [
    "for j in range(0, bits):\n",
    "    for i in range(0, L):\n",
    "        CT[j,i] = np.corrcoef(X[:,i], X[:,j*L+i])[0,1]\n",
    "CT"
   ],
   "metadata": {
    "collapsed": false
   }
  },
  {
   "cell_type": "code",
   "execution_count": 113,
   "outputs": [
    {
     "data": {
      "text/plain": "(16,)"
     },
     "execution_count": 113,
     "metadata": {},
     "output_type": "execute_result"
    }
   ],
   "source": [
    "V = np.zeros(L)\n",
    "V.shape"
   ],
   "metadata": {
    "collapsed": false
   }
  },
  {
   "cell_type": "code",
   "execution_count": 114,
   "outputs": [
    {
     "data": {
      "text/plain": "array([0.06886291, 0.06859485, 0.067851  , 0.06597235, 0.07047041,\n       0.06753918, 0.06360892, 0.06393298, 0.06600095, 0.06505178,\n       0.0690672 , 0.06863887, 0.06771762, 0.06935284, 0.06399366,\n       0.06660998])"
     },
     "execution_count": 114,
     "metadata": {},
     "output_type": "execute_result"
    }
   ],
   "source": [
    "for i in range(0, L):\n",
    "    V[i] = np.var(CT[:,i])\n",
    "V"
   ],
   "metadata": {
    "collapsed": false
   }
  },
  {
   "cell_type": "code",
   "execution_count": 115,
   "outputs": [
    {
     "data": {
      "text/plain": "0.06707909327841213"
     },
     "execution_count": 115,
     "metadata": {},
     "output_type": "execute_result"
    }
   ],
   "source": [
    "threshold = np.mean(V)  # 先简单取一个\n",
    "threshold"
   ],
   "metadata": {
    "collapsed": false
   }
  },
  {
   "cell_type": "code",
   "execution_count": 116,
   "outputs": [
    {
     "data": {
      "text/plain": "<Figure size 640x480 with 1 Axes>",
      "image/png": "[encoded data removed]"
     },
     "metadata": {},
     "output_type": "display_data"
    }
   ],
   "source": [
    "plt.scatter(range(0,L),V)\n",
    "plt.axhline(y=threshold,c='red')\n",
    "plt.show()"
   ],
   "metadata": {
    "collapsed": false
   }
  },
  {
   "cell_type": "code",
   "execution_count": 117,
   "outputs": [
    {
     "data": {
      "text/plain": "array([ True,  True,  True, False,  True,  True, False, False, False,\n       False,  True,  True,  True,  True, False, False])"
     },
     "execution_count": 117,
     "metadata": {},
     "output_type": "execute_result"
    }
   ],
   "source": [
    "S = V>threshold\n",
    "S"
   ],
   "metadata": {
    "collapsed": false
   }
  },
  {
   "cell_type": "code",
   "execution_count": 118,
   "outputs": [
    {
     "data": {
      "text/plain": "(array([[ 1.00000000e+00,  1.00000000e+00,  1.00000000e+00, ...,\n          1.00000000e+00,  1.00000000e+00,  1.00000000e+00],\n        [ 2.58551663e-01,  3.17694727e-01, -2.27375483e-01, ...,\n          3.41138792e-02,  1.29520900e-02, -1.29135040e-01],\n        [ 2.42334443e-02,  1.67525895e-01,  2.41847833e-01, ...,\n          6.91195658e-02, -4.20340362e-02, -3.53301106e-01],\n        ...,\n        [ 3.10315276e-01, -5.51277945e-02, -1.29927189e-01, ...,\n          3.82037921e-02, -6.70779405e-01,  4.68049317e-02],\n        [ 1.50075687e-01, -2.66387174e-01,  1.19055030e-01, ...,\n         -2.95161077e-01,  3.40585888e-01, -2.39945260e-01],\n        [-4.64546334e-01,  6.45632199e-03, -6.80676273e-01, ...,\n          9.69135500e-02,  2.32931309e-03, -5.07280595e-04]]),\n (1024, 9))"
     },
     "execution_count": 118,
     "metadata": {},
     "output_type": "execute_result"
    }
   ],
   "source": [
    "CT_sel = CT[:,S]\n",
    "CT_sel, CT_sel.shape"
   ],
   "metadata": {
    "collapsed": false
   }
  },
  {
   "cell_type": "code",
   "execution_count": 119,
   "outputs": [
    {
     "data": {
      "text/plain": "array([ 9.        ,  0.26826049, -0.01761794, ..., -0.40459305,\n       -0.2749364 , -1.36042129])"
     },
     "execution_count": 119,
     "metadata": {},
     "output_type": "execute_result"
    }
   ],
   "source": [
    "cor_sum = np.sum(CT_sel, 1)\n",
    "cor_sum"
   ],
   "metadata": {
    "collapsed": false
   }
  },
  {
   "cell_type": "code",
   "execution_count": 120,
   "outputs": [
    {
     "data": {
      "text/plain": "0.008818370034176555"
     },
     "execution_count": 120,
     "metadata": {},
     "output_type": "execute_result"
    }
   ],
   "source": [
    "cor_2avg = cor_sum[1:].mean()\n",
    "cor_2avg"
   ],
   "metadata": {
    "collapsed": false
   }
  },
  {
   "cell_type": "code",
   "execution_count": 121,
   "outputs": [
    {
     "name": "stdout",
     "output_type": "stream",
     "text": [
      "0010100001001111011101100000100110111101011111001101110110101101111001111010010001101010011101011000111010101111001010110001111000111101100110100101010110000010001110111010011001000000100001010101110110000000010110000100110110111000010100100001001111110001100101100110010101101000100000010100001110000100110100011110001010000010101000111000011100010011101101011101000011101100001110101010111111111000110000100101110110110100110000000010001011000101010110001000000010111000010010111101001010110001010100000000110101101111011111101100000100010110001011100101011000100010101100101101111001001001010001000011001110100110110100111001000100010000010100100001010110011101001100110100111011011011001111111101000010101010110100001100001101110000111101110110010010011011001100100100110111000111111101000011111011011011001100100001110101011111111110101101001001110111101111100100000001101001011001010011111001110010110000100000101100010011110111100011011101011101110000010000011001010111100101100101111001010110010110110011011010110111\n"
     ]
    }
   ],
   "source": [
    "# if the first bit is 0\n",
    "s = ''\n",
    "for cor in cor_sum:\n",
    "    if cor > cor_2avg:\n",
    "        s += '0'\n",
    "    else:\n",
    "        s += '1'\n",
    "print(s)"
   ],
   "metadata": {
    "collapsed": false
   }
  }
 ],
 "metadata": {
  "kernelspec": {
   "display_name": "Python 3",
   "language": "python",
   "name": "python3"
  },
  "language_info": {
   "codemirror_mode": {
    "name": "ipython",
    "version": 2
   },
   "file_extension": ".py",
   "mimetype": "text/x-python",
   "name": "python",
   "nbconvert_exporter": "python",
   "pygments_lexer": "ipython2",
   "version": "2.7.6"
  }
 },
 "nbformat": 4,
 "nbformat_minor": 0
}
